{
 "cells": [
  {
   "cell_type": "code",
   "execution_count": 1,
   "metadata": {
    "execution": {
     "iopub.execute_input": "2024-03-30T01:31:57.075970Z",
     "iopub.status.busy": "2024-03-30T01:31:57.075970Z",
     "iopub.status.idle": "2024-03-30T01:32:00.540519Z",
     "shell.execute_reply": "2024-03-30T01:32:00.539520Z"
    }
   },
   "outputs": [],
   "source": [
    "import numpy as np\n",
    "import scipy as sp\n",
    "import pandas as df\n",
    "\n",
    "from pypardiso import spsolve"
   ]
  },
  {
   "cell_type": "code",
   "execution_count": 2,
   "metadata": {
    "execution": {
     "iopub.execute_input": "2024-03-30T01:32:00.545531Z",
     "iopub.status.busy": "2024-03-30T01:32:00.544530Z",
     "iopub.status.idle": "2024-03-30T01:32:05.914272Z",
     "shell.execute_reply": "2024-03-30T01:32:05.913386Z"
    }
   },
   "outputs": [],
   "source": [
    "A_sp = df.read_csv(\"A_Sparse.txt\")\n",
    "A_row = A_sp[\"Row(int)\"].to_numpy(dtype=int) - 1\n",
    "A_col = A_sp[\"Col(int)\"].to_numpy(dtype=int) - 1\n",
    "A_data = A_sp[\"Data(float)\"].to_numpy(dtype=float)\n",
    "\n",
    "A_sp = sp.sparse.csr_matrix((A_data,(A_row,A_col)))\n",
    "\n",
    "b = np.fromfile(\"b.txt\",sep='\\n')"
   ]
  },
  {
   "cell_type": "code",
   "execution_count": 3,
   "metadata": {
    "execution": {
     "iopub.execute_input": "2024-03-30T01:32:05.918774Z",
     "iopub.status.busy": "2024-03-30T01:32:05.917267Z",
     "iopub.status.idle": "2024-03-30T01:32:09.524552Z",
     "shell.execute_reply": "2024-03-30T01:32:09.523552Z"
    }
   },
   "outputs": [],
   "source": [
    "x = spsolve(A_sp, b)"
   ]
  },
  {
   "cell_type": "code",
   "execution_count": 4,
   "metadata": {
    "execution": {
     "iopub.execute_input": "2024-03-30T01:32:09.530574Z",
     "iopub.status.busy": "2024-03-30T01:32:09.529066Z",
     "iopub.status.idle": "2024-03-30T01:32:13.136488Z",
     "shell.execute_reply": "2024-03-30T01:32:13.135486Z"
    }
   },
   "outputs": [],
   "source": [
    "np.savetxt(\"x.txt\",x,delimiter='\\n')"
   ]
  }
 ],
 "metadata": {
  "kernelspec": {
   "display_name": "base",
   "language": "python",
   "name": "python3"
  },
  "language_info": {
   "codemirror_mode": {
    "name": "ipython",
    "version": 3
   },
   "file_extension": ".py",
   "mimetype": "text/x-python",
   "name": "python",
   "nbconvert_exporter": "python",
   "pygments_lexer": "ipython3",
   "version": "3.10.14"
  }
 },
 "nbformat": 4,
 "nbformat_minor": 2
}
