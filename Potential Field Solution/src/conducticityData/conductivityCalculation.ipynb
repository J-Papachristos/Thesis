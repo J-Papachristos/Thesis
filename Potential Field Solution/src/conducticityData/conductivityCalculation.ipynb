{
 "cells": [
  {
   "cell_type": "code",
   "execution_count": 15,
   "metadata": {},
   "outputs": [],
   "source": [
    "# Imports\n",
    "import numpy.typing as npt\n",
    "import numpy as np\n",
    "import pandas as df\n",
    "import matplotlib.pyplot as plt\n",
    "from scipy.optimize import curve_fit"
   ]
  },
  {
   "cell_type": "code",
   "execution_count": 20,
   "metadata": {},
   "outputs": [
    {
     "name": "stdout",
     "output_type": "stream",
     "text": [
      "[1.0862225108]\n"
     ]
    },
    {
     "ename": "AttributeError",
     "evalue": "'dataSet' object has no attribute 'area'",
     "output_type": "error",
     "traceback": [
      "\u001b[1;31m---------------------------------------------------------------------------\u001b[0m",
      "\u001b[1;31mAttributeError\u001b[0m                            Traceback (most recent call last)",
      "Cell \u001b[1;32mIn[20], line 67\u001b[0m\n\u001b[0;32m     63\u001b[0m part3 \u001b[38;5;241m=\u001b[39m dataSet(df\u001b[38;5;241m.\u001b[39mread_csv(\u001b[38;5;124m\"\u001b[39m\u001b[38;5;124mpart3.csv\u001b[39m\u001b[38;5;124m\"\u001b[39m)\u001b[38;5;241m.\u001b[39mto_numpy())\n\u001b[0;32m     64\u001b[0m \u001b[38;5;66;03m# print(part1.amps.tolist())\u001b[39;00m\n\u001b[0;32m     65\u001b[0m \u001b[38;5;66;03m# print(part1.meanV.tolist())\u001b[39;00m\n\u001b[1;32m---> 67\u001b[0m \u001b[43mpart1\u001b[49m\u001b[38;5;241;43m.\u001b[39;49m\u001b[43mcalcResistance\u001b[49m\u001b[43m(\u001b[49m\u001b[43m)\u001b[49m\n",
      "Cell \u001b[1;32mIn[20], line 55\u001b[0m, in \u001b[0;36mdataSet.calcResistance\u001b[1;34m(self)\u001b[0m\n\u001b[0;32m     52\u001b[0m \u001b[38;5;28mprint\u001b[39m(popt)\n\u001b[0;32m     53\u001b[0m R \u001b[38;5;241m=\u001b[39m \u001b[38;5;241m1\u001b[39m\n\u001b[1;32m---> 55\u001b[0m \u001b[38;5;28mself\u001b[39m\u001b[38;5;241m.\u001b[39mresist \u001b[38;5;241m=\u001b[39m R \u001b[38;5;241m*\u001b[39m \u001b[38;5;28;43mself\u001b[39;49m\u001b[38;5;241;43m.\u001b[39;49m\u001b[43marea\u001b[49m \u001b[38;5;241m/\u001b[39m \u001b[38;5;28mself\u001b[39m\u001b[38;5;241m.\u001b[39mlength\n\u001b[0;32m     56\u001b[0m \u001b[38;5;28mself\u001b[39m\u001b[38;5;241m.\u001b[39mcond \u001b[38;5;241m=\u001b[39m \u001b[38;5;241m1\u001b[39m \u001b[38;5;241m/\u001b[39m \u001b[38;5;28mself\u001b[39m\u001b[38;5;241m.\u001b[39mresist\n",
      "\u001b[1;31mAttributeError\u001b[0m: 'dataSet' object has no attribute 'area'"
     ]
    }
   ],
   "source": [
    "# Linear Function for use in Curve Fit\n",
    "def linearFunc(x: float, a: float) -> float:\n",
    "    return a * x\n",
    "\n",
    "# Define Dataset Class\n",
    "class dataSet:\n",
    "    partNum: int\n",
    "    amps: npt.NDArray[np.float64] = np.array([0]) # [A]\n",
    "    meanV: npt.NDArray[np.float64] = np.array([0]) # [mV]\n",
    "\n",
    "    resist: float # [Ohm * m]\n",
    "    cond: float # [S/m]\n",
    "\n",
    "    # Units in [mm] and [mm^2]\n",
    "    length: float\n",
    "    side1: float\n",
    "    side2: float\n",
    "    area: float\n",
    "\n",
    "    # Methods :\n",
    "    def __init__(self, prt: npt.NDArray[np.float64]) -> None:\n",
    "        self.partNum = int(prt[0][0][-1]) # Get Part Num\n",
    "        prt = np.delete(prt, (0), axis=0) # Remove Header\n",
    "        len = prt.shape[0]\n",
    "\n",
    "        curr: int = 0\n",
    "        count: int = 0\n",
    "        for i in range(0,len):\n",
    "            prt[i][0] = float(prt[i][0]) # Make everything floats\n",
    "            if self.amps[curr] != prt[i][0] :\n",
    "                if count > 0 :\n",
    "                    self.meanV[curr] /= count\n",
    "                self.amps = np.append(self.amps,prt[i][0])\n",
    "                self.meanV = np.append(self.meanV,0.0)\n",
    "                curr += 1\n",
    "                count = 0\n",
    "            self.meanV[curr] += abs(prt[i][1] - prt[i][2]) # Calculate the actual ΔV from Measurement and Baseline\n",
    "            count += 1\n",
    "        else: # Divide last meanV\n",
    "            self.meanV[curr] /= count\n",
    "        self.amps = np.delete(self.amps,0)\n",
    "        self.meanV = np.delete(self.meanV,0)\n",
    "\n",
    "    def setSize(self, length:float, side1: float, side2: float) -> None:\n",
    "        self.length = length\n",
    "        self.side1 = side1\n",
    "        self.side2 = side2\n",
    "        self.area = side1 * side2\n",
    "\n",
    "    def calcResistance(self) -> None:\n",
    "        popt: list[float] = curve_fit(linearFunc, self.amps, self.meanV)[0]\n",
    "        print(popt)\n",
    "        R = 1\n",
    "\n",
    "        self.resist = R * self.area / self.length\n",
    "        self.cond = 1 / self.resist\n",
    "\n",
    "\n",
    "# Read Data\n",
    "part1 = dataSet(df.read_csv(\"part1.csv\").to_numpy())\n",
    "part2_1 = dataSet(df.read_csv(\"part2_1.csv\").to_numpy())\n",
    "part2_2 = dataSet(df.read_csv(\"part2_2.csv\").to_numpy())\n",
    "part3 = dataSet(df.read_csv(\"part3.csv\").to_numpy())\n",
    "# print(part1.amps.tolist())\n",
    "# print(part1.meanV.tolist())\n",
    "\n",
    "part1.setSize(67.58 - 40.98, 2.77, 3.13)\n",
    "\n",
    "part1.calcResistance()"
   ]
  }
 ],
 "metadata": {
  "kernelspec": {
   "display_name": "base",
   "language": "python",
   "name": "python3"
  },
  "language_info": {
   "codemirror_mode": {
    "name": "ipython",
    "version": 3
   },
   "file_extension": ".py",
   "mimetype": "text/x-python",
   "name": "python",
   "nbconvert_exporter": "python",
   "pygments_lexer": "ipython3",
   "version": "3.10.14"
  }
 },
 "nbformat": 4,
 "nbformat_minor": 2
}
