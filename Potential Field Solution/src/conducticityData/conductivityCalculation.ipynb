{
 "cells": [
  {
   "cell_type": "code",
   "execution_count": 1,
   "metadata": {},
   "outputs": [],
   "source": [
    "# Imports\n",
    "import numpy.typing as npt\n",
    "import numpy as np\n",
    "import pandas as df\n",
    "import matplotlib.pyplot as plt\n",
    "from scipy.optimize import curve_fit"
   ]
  },
  {
   "cell_type": "code",
   "execution_count": 2,
   "metadata": {},
   "outputs": [
    {
     "name": "stdout",
     "output_type": "stream",
     "text": [
      "7476688.272623353\n"
     ]
    }
   ],
   "source": [
    "# Linear Function for use in Curve Fit\n",
    "def linearFunc(x: float, a: float) -> float:\n",
    "    return a * x\n",
    "\n",
    "# Define Dataset Class\n",
    "class dataSet:\n",
    "    partNum: int\n",
    "    amps: npt.NDArray[np.float64] = np.array([0], dtype=float) # [A]\n",
    "    meanV: npt.NDArray[np.float64] = np.array([0], dtype=float) # [mV]\n",
    "\n",
    "    resist: float # [Ohm * m]\n",
    "    cond: float # [S/m]\n",
    "\n",
    "    # Units in [mm] and [mm^2]\n",
    "    length: float\n",
    "    side1: float\n",
    "    side2: float\n",
    "    area: float\n",
    "\n",
    "    # Methods :\n",
    "    def __init__(self, prt: npt.NDArray[np.float64]) -> None:\n",
    "        self.partNum = int(prt[0][0][-1]) # Get Part Num\n",
    "        prt = np.delete(prt, (0), axis=0) # Remove Header\n",
    "        len = prt.shape[0]\n",
    "\n",
    "        curr: int = 0\n",
    "        count: int = 0\n",
    "        for i in range(0,len):\n",
    "            prt[i][0] = float(prt[i][0]) # Make everything floats\n",
    "            if self.amps[curr] != prt[i][0] :\n",
    "                if count > 0 :\n",
    "                    self.meanV[curr] /= count\n",
    "                self.amps = np.append(self.amps,prt[i][0])\n",
    "                self.meanV = np.append(self.meanV,0)\n",
    "                curr += 1\n",
    "                count = 0\n",
    "            self.meanV[curr] += abs(prt[i][1] - prt[i][2]) # Calculate the actual ΔV from Measurement and Baseline\n",
    "            count += 1\n",
    "        else: # Divide last meanV\n",
    "            self.meanV[curr] /= count\n",
    "        self.amps = np.delete(self.amps,0)\n",
    "        self.meanV = np.delete(self.meanV,0)\n",
    "\n",
    "    def setSize(self, length:float, side1: float, side2: float) -> None:\n",
    "        self.length = length\n",
    "        self.side1 = side1\n",
    "        self.side2 = side2\n",
    "        self.area = side1 * side2\n",
    "\n",
    "    def calcConductivity(self) -> float:\n",
    "        R: list[float] = curve_fit(linearFunc, self.amps, self.meanV * 1e-3)[0]\n",
    "        \n",
    "\n",
    "        self.resist = R[0] * (self.area * 1e-6) / (self.length * 1e-3)\n",
    "        self.cond = 1 / self.resist\n",
    "        return self.cond\n",
    "\n",
    "\n",
    "# Read Data\n",
    "part1 = dataSet(df.read_csv(\"part1.csv\").to_numpy())\n",
    "part2_1 = dataSet(df.read_csv(\"part2_1.csv\").to_numpy())\n",
    "part2_2 = dataSet(df.read_csv(\"part2_2.csv\").to_numpy())\n",
    "part3 = dataSet(df.read_csv(\"part3.csv\").to_numpy())\n",
    "\n",
    "p1_size1: float = np.mean([3.00, 3.05, 3.12, 3.10])\n",
    "p1_size2: float = np.mean([2.74, 2.73, 2.77, 2.76])\n",
    "p2_size1: float = np.mean([3.69, 3.70, 3.72, 3.69])\n",
    "p2_size2: float = np.mean([3.01, 3.05, 3.04, 3.05])\n",
    "p3_size1: float = np.mean([3.18, 3.09, 3.20, 3.10])\n",
    "p3_size2: float = np.mean([2.24, 2.16, 2.13, 2.14])\n",
    "\n",
    "part1.setSize(67.58, p1_size1, p1_size2)\n",
    "part2_1.setSize(60.80, p2_size1, p2_size2)\n",
    "part2_2.setSize(61.68, p2_size1, p2_size2)\n",
    "part3.setSize(64.75, p3_size1, p3_size2)\n",
    "\n",
    "cond: npt.NDArray[np.float64] = np.array([])\n",
    "\n",
    "cond = np.append(cond, part1.calcConductivity())\n",
    "cond = np.append(cond, part2_1.calcConductivity())\n",
    "cond = np.append(cond, part2_2.calcConductivity())\n",
    "cond = np.append(cond, part3.calcConductivity())\n",
    "print(np.mean(cond))"
   ]
  }
 ],
 "metadata": {
  "kernelspec": {
   "display_name": "base",
   "language": "python",
   "name": "python3"
  },
  "language_info": {
   "codemirror_mode": {
    "name": "ipython",
    "version": 3
   },
   "file_extension": ".py",
   "mimetype": "text/x-python",
   "name": "python",
   "nbconvert_exporter": "python",
   "pygments_lexer": "ipython3",
   "version": "3.10.14"
  }
 },
 "nbformat": 4,
 "nbformat_minor": 2
}
