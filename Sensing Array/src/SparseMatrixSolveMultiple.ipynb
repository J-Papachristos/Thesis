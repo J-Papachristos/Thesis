{
 "cells": [
  {
   "cell_type": "code",
   "execution_count": 78,
   "metadata": {},
   "outputs": [],
   "source": [
    "import numpy as np\n",
    "import scipy as sp\n",
    "import pandas as df\n",
    "\n",
    "from pypardiso import spsolve\n",
    "\n",
    "from scipy.sparse.linalg import splu\n",
    "from numpy import ones"
   ]
  },
  {
   "cell_type": "code",
   "execution_count": 79,
   "metadata": {},
   "outputs": [],
   "source": [
    "A_sp = df.read_csv(\"A_Sparse.txt\")\n",
    "A_row = A_sp[\"Row(int)\"].to_numpy(dtype=int) - 1\n",
    "A_col = A_sp[\"Col(int)\"].to_numpy(dtype=int) - 1\n",
    "A_data = A_sp[\"Data(float)\"].to_numpy(dtype=float)\n",
    "\n",
    "A_sp = sp.sparse.csc_matrix((A_data,(A_row,A_col)))"
   ]
  },
  {
   "cell_type": "code",
   "execution_count": 80,
   "metadata": {},
   "outputs": [],
   "source": [
    "A_LU = splu(A_sp)\n",
    "## Fix \\/\n",
    "b = np.array([ones(A_sp.shape[1]), 2*ones(A_sp.shape[1])]).transpose()\n",
    "x = A_LU.solve(b)"
   ]
  },
  {
   "cell_type": "code",
   "execution_count": 81,
   "metadata": {},
   "outputs": [],
   "source": [
    "np.savetxt(\"x.txt\",x,delimiter='\\n',fmt=(x.shape[1]*'%lf,').rstrip(','))"
   ]
  }
 ],
 "metadata": {
  "kernelspec": {
   "display_name": "base",
   "language": "python",
   "name": "python3"
  },
  "language_info": {
   "codemirror_mode": {
    "name": "ipython",
    "version": 3
   },
   "file_extension": ".py",
   "mimetype": "text/x-python",
   "name": "python",
   "nbconvert_exporter": "python",
   "pygments_lexer": "ipython3",
   "version": "3.10.14"
  }
 },
 "nbformat": 4,
 "nbformat_minor": 2
}
