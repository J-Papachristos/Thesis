{
 "cells": [
  {
   "cell_type": "code",
   "execution_count": 203,
   "metadata": {},
   "outputs": [],
   "source": [
    "import numpy as np\n",
    "import scipy as sp\n",
    "import pandas as df\n",
    "\n",
    "from pypardiso import spsolve\n",
    "\n",
    "from scipy.sparse.linalg import splu\n",
    "from numpy import ones"
   ]
  },
  {
   "cell_type": "code",
   "execution_count": 204,
   "metadata": {},
   "outputs": [],
   "source": [
    "A_sp = df.read_csv(\"A_Sparse.txt\")\n",
    "A_row = A_sp[\"Row(int)\"].to_numpy(dtype=int) - 1\n",
    "A_col = A_sp[\"Col(int)\"].to_numpy(dtype=int) - 1\n",
    "A_data = A_sp[\"Data(float)\"].to_numpy(dtype=float)\n",
    "\n",
    "A_sp = sp.sparse.csc_matrix((A_data,(A_row,A_col)))"
   ]
  },
  {
   "cell_type": "code",
   "execution_count": 205,
   "metadata": {},
   "outputs": [],
   "source": [
    "b_sp = df.read_csv(\"b_Sparse.txt\")\n",
    "b_row = b_sp[\"Row(int)\"].to_numpy(dtype=int) - 1\n",
    "b_col = b_sp[\"Col(int)\"].to_numpy(dtype=int) - 1\n",
    "b_data = b_sp[\"Data(float)\"].to_numpy(dtype=float)\n",
    "\n",
    "b_sp = sp.sparse.csc_matrix((b_data,(b_row,b_col)),shape=(A_sp.shape[1],max(b_col)+1)).toarray()"
   ]
  },
  {
   "cell_type": "code",
   "execution_count": 206,
   "metadata": {},
   "outputs": [],
   "source": [
    "A_LU = splu(A_sp)\n",
    "x = A_LU.solve(b_sp)"
   ]
  },
  {
   "cell_type": "code",
   "execution_count": 209,
   "metadata": {},
   "outputs": [],
   "source": [
    "v_points = df.read_csv(\"v_Points.txt\").to_numpy()\n",
    "N = df.read_csv(\"info.txt\",header=None).to_numpy()[0]\n",
    "M = df.read_csv(\"info.txt\",header=None).to_numpy()[1]\n",
    "\n",
    "Dv = np.zeros(v_points.shape[0])\n",
    "for k in range(0,v_points.shape[0]) :\n",
    "    v1_i: int = v_points[k][0]\n",
    "    v2_i: int = v_points[k][1]\n",
    "    v1_j: int = v_points[k][2]\n",
    "    v2_j: int = v_points[k][3]\n",
    "    row_v1: int = (v1_i + ((N) * (v1_j)))[0]\n",
    "    row_v2: int = (v2_i + ((N) * (v2_j)))[0]\n",
    "    Dv[k] = (x[row_v2,k] - x[row_v1,k])\n",
    "np.savetxt(\"Dv.txt\",Dv,delimiter='\\n')"
   ]
  },
  {
   "cell_type": "code",
   "execution_count": 208,
   "metadata": {},
   "outputs": [],
   "source": [
    "np.savetxt(\"x.txt\",x,delimiter='\\n',fmt=(x.shape[1]*'%lf,').rstrip(','))"
   ]
  }
 ],
 "metadata": {
  "kernelspec": {
   "display_name": "base",
   "language": "python",
   "name": "python3"
  },
  "language_info": {
   "codemirror_mode": {
    "name": "ipython",
    "version": 3
   },
   "file_extension": ".py",
   "mimetype": "text/x-python",
   "name": "python",
   "nbconvert_exporter": "python",
   "pygments_lexer": "ipython3",
   "version": "3.10.14"
  }
 },
 "nbformat": 4,
 "nbformat_minor": 2
}
